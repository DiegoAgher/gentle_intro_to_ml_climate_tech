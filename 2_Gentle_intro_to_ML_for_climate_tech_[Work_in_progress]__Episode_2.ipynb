{
  "nbformat": 4,
  "nbformat_minor": 0,
  "metadata": {
    "colab": {
      "provenance": []
    },
    "kernelspec": {
      "name": "python3",
      "display_name": "Python 3"
    },
    "language_info": {
      "name": "python"
    }
  },
  "cells": [
    {
      "cell_type": "markdown",
      "source": [
        "# Recap\n",
        "Last time we saw some examples of ML used for climate tech projects and we saw the taxonomy of ML problems.\n",
        "\n",
        "Lets review that taxonomy and get inspired with some more examples\n",
        "\n",
        "## ML Taxonomy\n",
        "### Supervised Learning.\n",
        "In this setting, we have acces to a label we want to predict: either a class or an amount.\n",
        "\n",
        "#### Example\n",
        "1. From photos of tree leaves, we want to predict wether it's got a plague or not. The input to our model would be the photos, the classes would be with or without plague and for model we could a convolutional neural network.\n",
        "(Neural networks are a particular kind of machine learning algorithms that have been used for state of the art performance in the last 20 years)\n",
        "\n",
        "### Unsupervised Learning.\n",
        "In this setting, we dont have a label signal but we seek to find  similar observations and group them together although we dont know the group definition before hand.\n",
        "\n",
        "#### Example\n",
        "1. Imagine we have a dataset of climate tech essays got from the internet randomly, we dont have categories for them but we would like to give a semi-structure to them. We could use an unsupervised learning algorithm such as k-means or hierarchical learning to create 5 groups and cluster (this is known as clustering) them together.\n",
        "\n",
        "The texts themselves (You could maybe use the titles alone instead) would be the input, the groups found or the way to assign a group to an observation is the output and the model would be the algorithm (any clustering algorithm would do).\n",
        "\n",
        "### Reinforcement Learning.\n",
        "In this learning paradigm, we aim to train an agent to maximize the reward it gets by performing actions in a closed loop environment. This setting is a bit complicated so I'll try to simplify it.\n",
        "\n",
        "We have the following scenario: an environment in which the agent will act, an observation of the environment usually called state, an action of the agent (performed in the environment) and the reward the agent gets by performing such action on the environment.\n",
        "\n",
        "#### Example.\n",
        "1. Lets think of an agent whose goal is to direct traffic in a congested area of the city. The environment could be a crossing with a stop light, the actions could be switching lights, the reward signal could be the amount of cars that cross the intersection plus the amount of time cars spend at the stoplight. The agent would need to take different actions to explore how the dynamics of traffic jams work and the learning algorithm's job would be to figure out the best strategy based on the rewards obtained."
      ],
      "metadata": {
        "id": "UEdQxMD9XwCt"
      }
    },
    {
      "cell_type": "code",
      "source": [],
      "metadata": {
        "id": "7bjroMLqYezi"
      },
      "execution_count": null,
      "outputs": []
    }
  ]
}